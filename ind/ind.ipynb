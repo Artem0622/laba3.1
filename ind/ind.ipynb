{
 "cells": [
  {
   "cell_type": "markdown",
   "metadata": {},
   "source": [
    "# Индивиудальное задание."
   ]
  },
  {
   "cell_type": "markdown",
   "metadata": {},
   "source": [
    "## Вычислить длину кривой линии, заданной параметрически, и построить её график на интервале $[0,2π]$ с использованием метода численного интегрирования."
   ]
  },
  {
   "cell_type": "markdown",
   "metadata": {},
   "source": [
    "### Подключаем нужные нам библиотеки."
   ]
  },
  {
   "cell_type": "code",
   "execution_count": 1,
   "metadata": {
    "ExecuteTime": {
     "end_time": "2023-05-12T01:10:08.085456Z",
     "start_time": "2023-05-12T01:10:07.224134Z"
    }
   },
   "outputs": [],
   "source": [
    "import numpy as np\n",
    "from scipy import integrate\n",
    "import matplotlib.pyplot as plt"
   ]
  },
  {
   "cell_type": "markdown",
   "metadata": {},
   "source": [
    "## Рассмотрим кривую линию, заданную параметрически следующим образом:\n",
    "## $$x(t) = cos(t), y(t) = sin(t)$$\n",
    "## где $t$ находится в интервале от $[0, 2π]$."
   ]
  },
  {
   "cell_type": "markdown",
   "metadata": {},
   "source": [
    "### Определяем параметрические функции."
   ]
  },
  {
   "cell_type": "code",
   "execution_count": 2,
   "metadata": {
    "ExecuteTime": {
     "end_time": "2023-05-12T01:10:10.604647Z",
     "start_time": "2023-05-12T01:10:10.591180Z"
    }
   },
   "outputs": [],
   "source": [
    "def x(t):\n",
    "    return np.cos(t)\n",
    "\n",
    "def y(t):\n",
    "    return np.sin(t)"
   ]
  },
  {
   "cell_type": "markdown",
   "metadata": {},
   "source": [
    "### Вычисляем длину кривой."
   ]
  },
  {
   "cell_type": "code",
   "execution_count": 3,
   "metadata": {
    "ExecuteTime": {
     "end_time": "2023-05-12T01:10:12.538449Z",
     "start_time": "2023-05-12T01:10:12.529473Z"
    }
   },
   "outputs": [
    {
     "name": "stdout",
     "output_type": "stream",
     "text": [
      "Длина кривой линии: 6.283185307179586\n"
     ]
    }
   ],
   "source": [
    "t = np.linspace(0, 2*np.pi, 1000)\n",
    "\n",
    "dx_dt = -np.sin(t) # производная x(t)\n",
    "dy_dt = np.cos(t) # производная y(t)\n",
    "\n",
    "ds_dt = np.sqrt(dx_dt**2 + dy_dt**2) # производная длины кривой по t\n",
    "\n",
    "curve_length, error = integrate.quad(lambda t: np.sqrt(dx_dt[int(t)]**2 + dy_dt[int(t)]**2), 0, 2*np.pi)\n",
    "\n",
    "print(f\"Длина кривой линии: {curve_length}\")"
   ]
  },
  {
   "cell_type": "markdown",
   "metadata": {},
   "source": [
    "### Строим и выводим график."
   ]
  },
  {
   "cell_type": "code",
   "execution_count": 4,
   "metadata": {
    "ExecuteTime": {
     "end_time": "2023-05-12T01:10:15.470064Z",
     "start_time": "2023-05-12T01:10:15.347703Z"
    }
   },
   "outputs": [
    {
     "data": {
      "image/png": "[encoded data removed]",
      "text/plain": [
       "<Figure size 432x288 with 1 Axes>"
      ]
     },
     "metadata": {
      "needs_background": "light"
     },
     "output_type": "display_data"
    }
   ],
   "source": [
    "plt.plot(x(t), y(t), 'b', linewidth=2)\n",
    "plt.title('Parametric Curve')\n",
    "plt.xlabel('x')\n",
    "plt.ylabel('y')\n",
    "plt.axis('equal')\n",
    "plt.show()"
   ]
  }
 ],
 "metadata": {
  "kernelspec": {
   "display_name": "Python 3 (ipykernel)",
   "language": "python",
   "name": "python3"
  },
  "language_info": {
   "codemirror_mode": {
    "name": "ipython",
    "version": 3
   },
   "file_extension": ".py",
   "mimetype": "text/x-python",
   "name": "python",
   "nbconvert_exporter": "python",
   "pygments_lexer": "ipython3",
   "version": "3.9.12"
  }
 },
 "nbformat": 4,
 "nbformat_minor": 2
}
